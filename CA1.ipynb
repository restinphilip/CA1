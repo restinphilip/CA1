{
  "nbformat": 4,
  "nbformat_minor": 0,
  "metadata": {
    "colab": {
      "name": "CA1.ipynb",
      "provenance": [],
      "collapsed_sections": [],
      "authorship_tag": "ABX9TyPi8Vmz5K9euDLg/GxaHGqc",
      "include_colab_link": true
    },
    "kernelspec": {
      "name": "python3",
      "display_name": "Python 3"
    },
    "language_info": {
      "name": "python"
    }
  },
  "cells": [
    {
      "cell_type": "markdown",
      "metadata": {
        "id": "view-in-github",
        "colab_type": "text"
      },
      "source": [
        "<a href=\"https://colab.research.google.com/github/restinphilip/CA1/blob/main/CA1.ipynb\" target=\"_parent\"><img src=\"https://colab.research.google.com/assets/colab-badge.svg\" alt=\"Open In Colab\"/></a>"
      ]
    },
    {
      "cell_type": "code",
      "metadata": {
        "id": "iWZ-pmPfU2eO"
      },
      "source": [
        "# file = open(\"Employees.txt\", \"w\")\n",
        "# Employees_list = [\"ID1.0\", \" \", \"Restin\",\" \" , \"Philip\", \" \",\"37\" , \" \",\"16\", \" \", \"1.5\", \" \", \"70\", \" \", \"700\\n\", \n",
        "#                   \"ID1.1\", \" \", \"Joy\",\" \" , \"Boy\", \" \", \"37\" , \" \",\"18\", \" \", \"1.8\", \" \", \"75\", \" \", \"750\\n\"]\n",
        "# file.writelines(Employees_list)\n",
        "# file = open(\"Employees.txt\")\n",
        "# content = file.read()\n",
        "# file.close()\n",
        "\n",
        "\n",
        "# print(content)"
      ],
      "execution_count": null,
      "outputs": []
    },
    {
      "cell_type": "code",
      "metadata": {
        "id": "_Z2w4AKy1i8C"
      },
      "source": [
        "# file = open(\"hours.txt\", \"w\")\n",
        "# hours_list = [\" \", \"ID1.0\", \" \", \"12/4/21\",\" \" , \"40\\n\", \" \",\"ID1.1\" , \" \",\"12/4/21\", \" \", \"30\\n\", \" \", \"ID1.0\", \" \", \"13/4/21\",\" \" , \"37\\n\"]\n",
        "# file.writelines(hours_list)\n",
        "# file = open(\"hours.txt\")\n",
        "# content = file.read()\n",
        "# file.close()\n",
        "\n",
        "\n",
        "# print(content)"
      ],
      "execution_count": null,
      "outputs": []
    },
    {
      "cell_type": "code",
      "metadata": {
        "colab": {
          "base_uri": "https://localhost:8080/"
        },
        "id": "UlzBnf352pRc",
        "outputId": "1511be96-878b-46c1-fba4-a24933f54220"
      },
      "source": [
        "from google.colab import files\n",
        "\n",
        "EMP_FILE = 'Employees.txt'\n",
        "HR_FILE = 'Hours.txt'\n",
        "STD_TAX_RATE = 0.2\n",
        "HIGH_TAX_RATE = 0.4\n",
        "\n",
        "class Employee:\n",
        "    def __init__(self, id, lastName, firstName, regHrs, rate, otm, taxCred, stdBand):\n",
        "        self.id = id\n",
        "        self.lastName = lastName\n",
        "        self.firstName = firstName\n",
        "        self.regHrs = float(regHrs)\n",
        "        self.rate = float(rate)\n",
        "        self.otm = float(otm)\n",
        "        self.taxCred = float(taxCred)\n",
        "        self.stdBand = float(stdBand)\n",
        "\n",
        "    def computePayment(self, hrs, date):\n",
        "      \n",
        "        otHrs = hrs - self.regHrs if hrs > self.regHrs else 0\n",
        "        otRate = self.rate * self.otm\n",
        "        assert otRate > -1, 'Only positive numbers are allowed'\n",
        "        regPay = self.rate * self.regHrs\n",
        "        assert otRate > -1, 'Only positive numbers are allowed'\n",
        "        otPay = otRate * otHrs\n",
        "        grossPay = regPay + otPay\n",
        "        highPay = grossPay - self.stdBand\n",
        "        assert highPay > -1, 'Only positive numbers are allowed'\n",
        "        stdTax = self.stdBand * STD_TAX_RATE\n",
        "        highTax = highPay * HIGH_TAX_RATE\n",
        "        deduct = max(stdTax + highTax - self.taxCred, 0)\n",
        "        NetPay = grossPay - deduct\n",
        "        \n",
        "        return {\n",
        "            'name': '{0} {1}'.format(self.firstName,self.lastName),\n",
        "            'Date': date,\n",
        "            'Regular Hours Worked': self.regHrs,\n",
        "            'Overtime Hours Worked': otHrs,\n",
        "            'Regular Rate': self.rate,\n",
        "            'Overtime Rate': otRate,\n",
        "            'Regular Pay': regPay,\n",
        "            'Overtime Pay': otPay,\n",
        "            'Gross Pay': grossPay,\n",
        "            'Standard Rate Pay': self.stdBand,\n",
        "            'Higher Rate Pay': highPay,\n",
        "            'Standard Tax': stdTax,\n",
        "            'Higher Tax': highTax,\n",
        "            'Total Tax': stdTax + highTax,\n",
        "            'Tax Credit': self.taxCred,\n",
        "            'Net Deductions': deduct,\n",
        "            'Net Pay': NetPay\n",
        "        }\n",
        "\n",
        "def computeAllPayment(employeeFile, hoursFile):\n",
        "    employees = []\n",
        "    payments = []\n",
        "    with open(employeeFile,'r') as file:\n",
        "        data = file.readlines()\n",
        "        for line in data:\n",
        "            words = line.split()\n",
        "            employees.append(Employee(*words))\n",
        "    \n",
        "    with open(hoursFile, 'r') as file:\n",
        "        data = file.readlines()\n",
        "        for line in data:\n",
        "            words = line.split()\n",
        "            emp = next(i for i in employees if i.id == words[0])\n",
        "            payments.append(emp.computePayment(float(words[2]), words[1]))\n",
        "\n",
        "    return payments\n",
        "\n",
        "    \n",
        "\n",
        "\n",
        "print(computeAllPayment(EMP_FILE,HR_FILE))\n",
        "\n"
      ],
      "execution_count": null,
      "outputs": [
        {
          "output_type": "stream",
          "name": "stdout",
          "text": [
            "[{'name': 'Joe Green', 'Date': '31/12/2020', 'Regular Hours Worked': 38.0, 'Overtime Hours Worked': 4.0, 'Regular Rate': 18.0, 'Overtime Rate': 30.599999999999998, 'Regular Pay': 684.0, 'Overtime Pay': 122.39999999999999, 'Gross Pay': 806.4, 'Standard Rate Pay': 700.0, 'Higher Rate Pay': 106.39999999999998, 'Standard Tax': 140.0, 'Higher Tax': 42.559999999999995, 'Total Tax': 182.56, 'Tax Credit': 70.0, 'Net Deductions': 112.56, 'Net Pay': 693.8399999999999}, {'name': 'Jack Black', 'Date': '31/10/2021', 'Regular Hours Worked': 40.0, 'Overtime Hours Worked': 0, 'Regular Rate': 20.0, 'Overtime Rate': 30.0, 'Regular Pay': 800.0, 'Overtime Pay': 0.0, 'Gross Pay': 800.0, 'Standard Rate Pay': 650.0, 'Higher Rate Pay': 150.0, 'Standard Tax': 130.0, 'Higher Tax': 60.0, 'Total Tax': 190.0, 'Tax Credit': 80.0, 'Net Deductions': 110.0, 'Net Pay': 690.0}, {'name': 'Jack Black', 'Date': '30/10/2021', 'Regular Hours Worked': 40.0, 'Overtime Hours Worked': 10.0, 'Regular Rate': 20.0, 'Overtime Rate': 30.0, 'Regular Pay': 800.0, 'Overtime Pay': 300.0, 'Gross Pay': 1100.0, 'Standard Rate Pay': 650.0, 'Higher Rate Pay': 450.0, 'Standard Tax': 130.0, 'Higher Tax': 180.0, 'Total Tax': 310.0, 'Tax Credit': 80.0, 'Net Deductions': 230.0, 'Net Pay': 870.0}]\n"
          ]
        }
      ]
    },
    {
      "cell_type": "code",
      "metadata": {
        "id": "QvWa9XyX9cqR"
      },
      "source": [
        "e = Employee(12345, 'Restin', 'Philip', 34, 16, 1.7, 70, 700)"
      ],
      "execution_count": null,
      "outputs": []
    },
    {
      "cell_type": "code",
      "metadata": {
        "id": "fUrkH9-30fN_",
        "colab": {
          "base_uri": "https://localhost:8080/",
          "height": 287
        },
        "outputId": "8c1b3ea6-4cff-447f-c458-daf6726cc5d9"
      },
      "source": [
        "e.computePayment(20,'31/10/2021')"
      ],
      "execution_count": null,
      "outputs": [
        {
          "output_type": "error",
          "ename": "AssertionError",
          "evalue": "ignored",
          "traceback": [
            "\u001b[0;31m---------------------------------------------------------------------------\u001b[0m",
            "\u001b[0;31mAssertionError\u001b[0m                            Traceback (most recent call last)",
            "\u001b[0;32m<ipython-input-45-e2df5962466d>\u001b[0m in \u001b[0;36m<module>\u001b[0;34m()\u001b[0m\n\u001b[0;32m----> 1\u001b[0;31m \u001b[0me\u001b[0m\u001b[0;34m.\u001b[0m\u001b[0mcomputePayment\u001b[0m\u001b[0;34m(\u001b[0m\u001b[0;36m20\u001b[0m\u001b[0;34m,\u001b[0m\u001b[0;34m'31/10/2021'\u001b[0m\u001b[0;34m)\u001b[0m\u001b[0;34m\u001b[0m\u001b[0;34m\u001b[0m\u001b[0m\n\u001b[0m",
            "\u001b[0;32m<ipython-input-32-c0baf2166b89>\u001b[0m in \u001b[0;36mcomputePayment\u001b[0;34m(self, hrs, date)\u001b[0m\n\u001b[1;32m     27\u001b[0m         \u001b[0mgrossPay\u001b[0m \u001b[0;34m=\u001b[0m \u001b[0mregPay\u001b[0m \u001b[0;34m+\u001b[0m \u001b[0motPay\u001b[0m\u001b[0;34m\u001b[0m\u001b[0;34m\u001b[0m\u001b[0m\n\u001b[1;32m     28\u001b[0m         \u001b[0mhighPay\u001b[0m \u001b[0;34m=\u001b[0m \u001b[0mgrossPay\u001b[0m \u001b[0;34m-\u001b[0m \u001b[0mself\u001b[0m\u001b[0;34m.\u001b[0m\u001b[0mstdBand\u001b[0m\u001b[0;34m\u001b[0m\u001b[0;34m\u001b[0m\u001b[0m\n\u001b[0;32m---> 29\u001b[0;31m         \u001b[0;32massert\u001b[0m \u001b[0mhighPay\u001b[0m \u001b[0;34m>\u001b[0m \u001b[0;34m-\u001b[0m\u001b[0;36m1\u001b[0m\u001b[0;34m,\u001b[0m \u001b[0;34m'Only positive numbers are allowed'\u001b[0m\u001b[0;34m\u001b[0m\u001b[0;34m\u001b[0m\u001b[0m\n\u001b[0m\u001b[1;32m     30\u001b[0m         \u001b[0mstdTax\u001b[0m \u001b[0;34m=\u001b[0m \u001b[0mself\u001b[0m\u001b[0;34m.\u001b[0m\u001b[0mstdBand\u001b[0m \u001b[0;34m*\u001b[0m \u001b[0mSTD_TAX_RATE\u001b[0m\u001b[0;34m\u001b[0m\u001b[0;34m\u001b[0m\u001b[0m\n\u001b[1;32m     31\u001b[0m         \u001b[0mhighTax\u001b[0m \u001b[0;34m=\u001b[0m \u001b[0mhighPay\u001b[0m \u001b[0;34m*\u001b[0m \u001b[0mHIGH_TAX_RATE\u001b[0m\u001b[0;34m\u001b[0m\u001b[0;34m\u001b[0m\u001b[0m\n",
            "\u001b[0;31mAssertionError\u001b[0m: Only positive numbers are allowed"
          ]
        }
      ]
    },
    {
      "cell_type": "code",
      "metadata": {
        "id": "UKgHbUgi4BE3"
      },
      "source": [
        "def testNetLessEqualGross(self):\n",
        "  e=Employee(12345, 'Restin', 'Philip', 34, 16, 1.7, 70, 700)\n",
        "  pi=e.computePayment(1,'31/10/2021')\n",
        "  self.assertLessEqual(pi['Net Pay'],pi['Gross Pay'])\n",
        "  print(pi)"
      ],
      "execution_count": null,
      "outputs": []
    },
    {
      "cell_type": "markdown",
      "metadata": {
        "id": "lGWwcM1nPaC0"
      },
      "source": [
        ""
      ]
    }
  ]
}